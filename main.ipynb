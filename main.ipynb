{
 "cells": [
  {
   "cell_type": "code",
   "execution_count": 14,
   "metadata": {
    "collapsed": true
   },
   "outputs": [],
   "source": [
    "# Imports\n",
    "import pandas as pd\n",
    "import xgboost as xgb\n",
    "from sklearn.linear_model import LogisticRegression\n",
    "from sklearn.svm import SVC\n",
    "from IPython.display import display\n",
    "from time import time"
   ]
  },
  {
   "cell_type": "code",
   "execution_count": 15,
   "outputs": [
    {
     "data": {
      "text/plain": "   Unnamed: 0        Date        HomeTeam     AwayTeam  FTHG  FTAG FTR  HTGS  \\\n0           0  2020-09-12          Fulham      Arsenal     0     3   A     0   \n1           1  2020-09-12  Crystal Palace  Southampton     1     0   H     0   \n2           2  2020-09-12       Liverpool        Leeds     4     3   H     0   \n3           3  2020-09-12        West Ham    Newcastle     0     2   A     0   \n4           4  2020-09-13       West Brom    Leicester     0     3   A     0   \n\n   ATGS  HTGC  ...  HTLS5  ATWS3  ATWS5 ATLS3 ATLS5 HTGD ATGD DP DFP DLP  \n0     0     0  ...      0      0      0     0     0    0    0  0   0  15  \n1     0     0  ...      0      0      0     0     0    0    0  0   0   6  \n2     0     0  ...      0      0      0     0     0    0    0  0   0 -16  \n3     0     0  ...      0      0      0     0     0    0    0  0   0  -9  \n4     0     0  ...      0      0      0     0     0    0    0  0   0  -2  \n\n[5 rows x 43 columns]",
      "text/html": "<div>\n<style scoped>\n    .dataframe tbody tr th:only-of-type {\n        vertical-align: middle;\n    }\n\n    .dataframe tbody tr th {\n        vertical-align: top;\n    }\n\n    .dataframe thead th {\n        text-align: right;\n    }\n</style>\n<table border=\"1\" class=\"dataframe\">\n  <thead>\n    <tr style=\"text-align: right;\">\n      <th></th>\n      <th>Unnamed: 0</th>\n      <th>Date</th>\n      <th>HomeTeam</th>\n      <th>AwayTeam</th>\n      <th>FTHG</th>\n      <th>FTAG</th>\n      <th>FTR</th>\n      <th>HTGS</th>\n      <th>ATGS</th>\n      <th>HTGC</th>\n      <th>...</th>\n      <th>HTLS5</th>\n      <th>ATWS3</th>\n      <th>ATWS5</th>\n      <th>ATLS3</th>\n      <th>ATLS5</th>\n      <th>HTGD</th>\n      <th>ATGD</th>\n      <th>DP</th>\n      <th>DFP</th>\n      <th>DLP</th>\n    </tr>\n  </thead>\n  <tbody>\n    <tr>\n      <th>0</th>\n      <td>0</td>\n      <td>2020-09-12</td>\n      <td>Fulham</td>\n      <td>Arsenal</td>\n      <td>0</td>\n      <td>3</td>\n      <td>A</td>\n      <td>0</td>\n      <td>0</td>\n      <td>0</td>\n      <td>...</td>\n      <td>0</td>\n      <td>0</td>\n      <td>0</td>\n      <td>0</td>\n      <td>0</td>\n      <td>0</td>\n      <td>0</td>\n      <td>0</td>\n      <td>0</td>\n      <td>15</td>\n    </tr>\n    <tr>\n      <th>1</th>\n      <td>1</td>\n      <td>2020-09-12</td>\n      <td>Crystal Palace</td>\n      <td>Southampton</td>\n      <td>1</td>\n      <td>0</td>\n      <td>H</td>\n      <td>0</td>\n      <td>0</td>\n      <td>0</td>\n      <td>...</td>\n      <td>0</td>\n      <td>0</td>\n      <td>0</td>\n      <td>0</td>\n      <td>0</td>\n      <td>0</td>\n      <td>0</td>\n      <td>0</td>\n      <td>0</td>\n      <td>6</td>\n    </tr>\n    <tr>\n      <th>2</th>\n      <td>2</td>\n      <td>2020-09-12</td>\n      <td>Liverpool</td>\n      <td>Leeds</td>\n      <td>4</td>\n      <td>3</td>\n      <td>H</td>\n      <td>0</td>\n      <td>0</td>\n      <td>0</td>\n      <td>...</td>\n      <td>0</td>\n      <td>0</td>\n      <td>0</td>\n      <td>0</td>\n      <td>0</td>\n      <td>0</td>\n      <td>0</td>\n      <td>0</td>\n      <td>0</td>\n      <td>-16</td>\n    </tr>\n    <tr>\n      <th>3</th>\n      <td>3</td>\n      <td>2020-09-12</td>\n      <td>West Ham</td>\n      <td>Newcastle</td>\n      <td>0</td>\n      <td>2</td>\n      <td>A</td>\n      <td>0</td>\n      <td>0</td>\n      <td>0</td>\n      <td>...</td>\n      <td>0</td>\n      <td>0</td>\n      <td>0</td>\n      <td>0</td>\n      <td>0</td>\n      <td>0</td>\n      <td>0</td>\n      <td>0</td>\n      <td>0</td>\n      <td>-9</td>\n    </tr>\n    <tr>\n      <th>4</th>\n      <td>4</td>\n      <td>2020-09-13</td>\n      <td>West Brom</td>\n      <td>Leicester</td>\n      <td>0</td>\n      <td>3</td>\n      <td>A</td>\n      <td>0</td>\n      <td>0</td>\n      <td>0</td>\n      <td>...</td>\n      <td>0</td>\n      <td>0</td>\n      <td>0</td>\n      <td>0</td>\n      <td>0</td>\n      <td>0</td>\n      <td>0</td>\n      <td>0</td>\n      <td>0</td>\n      <td>-2</td>\n    </tr>\n  </tbody>\n</table>\n<p>5 rows × 43 columns</p>\n</div>"
     },
     "metadata": {},
     "output_type": "display_data"
    },
    {
     "name": "stdout",
     "output_type": "stream",
     "text": [
      "Home win rate 45.1053%\n",
      "Away win rate 32.3158%\n",
      "Draw rate 22.5789%\n"
     ]
    }
   ],
   "source": [
    "def ftr_score(string):\n",
    "    if string == 'H':\n",
    "        return 0\n",
    "    elif string == \"A\":\n",
    "        return 1\n",
    "    else:\n",
    "        return 2\n",
    "\n",
    "def last5_score(string):\n",
    "    if string == 'N':\n",
    "        return 0\n",
    "    elif string == \"W\":\n",
    "        return 1\n",
    "    else:\n",
    "        return 2\n",
    "\n",
    "# Read data\n",
    "data = pd.read_csv(\"C:/Users/theerik/PycharmProjects/predictor/data/final/final.csv\")\n",
    "display(data.head())\n",
    "\n",
    "# change FTR letters to numbers\n",
    "data['FTR'] = data.FTR.apply(ftr_score)\n",
    "# change last 5 matches\n",
    "data['HM1'] = data.HM1.apply(last5_score)\n",
    "data['HM2'] = data.HM2.apply(last5_score)\n",
    "data['HM3'] = data.HM3.apply(last5_score)\n",
    "data['HM4'] = data.HM4.apply(last5_score)\n",
    "data['HM5'] = data.HM5.apply(last5_score)\n",
    "\n",
    "data['AM1'] = data.AM1.apply(last5_score)\n",
    "data['AM2'] = data.AM2.apply(last5_score)\n",
    "data['AM3'] = data.AM3.apply(last5_score)\n",
    "data['AM4'] = data.AM4.apply(last5_score)\n",
    "data['AM5'] = data.AM5.apply(last5_score)\n",
    "\n",
    "nr = data.shape[0]\n",
    "wins = len(data[data.FTR == 0])\n",
    "away = len(data[data.FTR == 1])\n",
    "draw = len(data[data.FTR == 2])\n",
    "print(\"Home win rate {:.4f}%\".format(float(wins / nr) * 100))\n",
    "print(\"Away win rate {:.4f}%\".format(float(away / nr) * 100))\n",
    "print(\"Draw rate {:.4f}%\".format(float(draw / nr) * 100))\n"
   ],
   "metadata": {
    "collapsed": false,
    "pycharm": {
     "name": "#%%\n"
    }
   }
  },
  {
   "cell_type": "code",
   "execution_count": 16,
   "outputs": [],
   "source": [
    "# FTR = Full Time Result (H=Home Win: 0, A=Away Win: 1, D=Draw: 2)\n",
    "# remove useless/cheat data\n",
    "X_all = data.drop(['FTR', \"FTHG\", \"FTAG\", \"Date\", \"Unnamed: 0\", \"HTFPS\", \"ATFPS\"], axis=1)\n",
    "y_all = data['FTR']\n",
    "\n",
    "# # Standardising the data.\n",
    "# from sklearn.preprocessing import scale\n",
    "#\n",
    "# # Center to the mean and component wise scale to unit variance.\n",
    "# cols = [['HTGD','ATGD','HTP','ATP','DLP']]\n",
    "# for col in cols:\n",
    "#     X_all[col] = scale(X_all[col])\n",
    "#\n",
    "# display(X_all.head())"
   ],
   "metadata": {
    "collapsed": false,
    "pycharm": {
     "name": "#%%\n"
    }
   }
  },
  {
   "cell_type": "code",
   "execution_count": 17,
   "outputs": [
    {
     "name": "stdout",
     "output_type": "stream",
     "text": [
      "Processed feature columns (94 total features):['HomeTeam_Arsenal', 'HomeTeam_Aston Villa', 'HomeTeam_Bournemouth', 'HomeTeam_Brighton', 'HomeTeam_Burnley', 'HomeTeam_Cardiff', 'HomeTeam_Chelsea', 'HomeTeam_Crystal Palace', 'HomeTeam_Everton', 'HomeTeam_Fulham', 'HomeTeam_Huddersfield', 'HomeTeam_Hull', 'HomeTeam_Leeds', 'HomeTeam_Leicester', 'HomeTeam_Liverpool', 'HomeTeam_Man City', 'HomeTeam_Man United', 'HomeTeam_Middlesbrough', 'HomeTeam_Newcastle', 'HomeTeam_Norwich', 'HomeTeam_Sheffield United', 'HomeTeam_Southampton', 'HomeTeam_Stoke', 'HomeTeam_Sunderland', 'HomeTeam_Swansea', 'HomeTeam_Tottenham', 'HomeTeam_Watford', 'HomeTeam_West Brom', 'HomeTeam_West Ham', 'HomeTeam_Wolves', 'AwayTeam_Arsenal', 'AwayTeam_Aston Villa', 'AwayTeam_Bournemouth', 'AwayTeam_Brighton', 'AwayTeam_Burnley', 'AwayTeam_Cardiff', 'AwayTeam_Chelsea', 'AwayTeam_Crystal Palace', 'AwayTeam_Everton', 'AwayTeam_Fulham', 'AwayTeam_Huddersfield', 'AwayTeam_Hull', 'AwayTeam_Leeds', 'AwayTeam_Leicester', 'AwayTeam_Liverpool', 'AwayTeam_Man City', 'AwayTeam_Man United', 'AwayTeam_Middlesbrough', 'AwayTeam_Newcastle', 'AwayTeam_Norwich', 'AwayTeam_Sheffield United', 'AwayTeam_Southampton', 'AwayTeam_Stoke', 'AwayTeam_Sunderland', 'AwayTeam_Swansea', 'AwayTeam_Tottenham', 'AwayTeam_Watford', 'AwayTeam_West Brom', 'AwayTeam_West Ham', 'AwayTeam_Wolves', 'HTGS', 'ATGS', 'HTGC', 'ATGC', 'HTP', 'ATP', 'HM1', 'HM2', 'HM3', 'HM4', 'HM5', 'AM1', 'AM2', 'AM3', 'AM4', 'AM5', 'HTLP', 'ATLP', 'MW', 'HTFP', 'ATFP', 'HTWS3', 'HTWS5', 'HTLS3', 'HTLS5', 'ATWS3', 'ATWS5', 'ATLS3', 'ATLS5', 'HTGD', 'ATGD', 'DP', 'DFP', 'DLP']\n",
      "\n"
     ]
    },
    {
     "data": {
      "text/plain": "   HomeTeam_Arsenal  HomeTeam_Aston Villa  HomeTeam_Bournemouth  \\\n0                 0                     0                     0   \n1                 0                     0                     0   \n2                 0                     0                     0   \n3                 0                     0                     0   \n4                 0                     0                     0   \n\n   HomeTeam_Brighton  HomeTeam_Burnley  HomeTeam_Cardiff  HomeTeam_Chelsea  \\\n0                  0                 0                 0                 0   \n1                  0                 0                 0                 0   \n2                  0                 0                 0                 0   \n3                  0                 0                 0                 0   \n4                  0                 0                 0                 0   \n\n   HomeTeam_Crystal Palace  HomeTeam_Everton  HomeTeam_Fulham  ...  HTLS5  \\\n0                        0                 0                1  ...      0   \n1                        1                 0                0  ...      0   \n2                        0                 0                0  ...      0   \n3                        0                 0                0  ...      0   \n4                        0                 0                0  ...      0   \n\n   ATWS3  ATWS5  ATLS3  ATLS5  HTGD  ATGD  DP  DFP  DLP  \n0      0      0      0      0     0     0   0    0   15  \n1      0      0      0      0     0     0   0    0    6  \n2      0      0      0      0     0     0   0    0  -16  \n3      0      0      0      0     0     0   0    0   -9  \n4      0      0      0      0     0     0   0    0   -2  \n\n[5 rows x 94 columns]",
      "text/html": "<div>\n<style scoped>\n    .dataframe tbody tr th:only-of-type {\n        vertical-align: middle;\n    }\n\n    .dataframe tbody tr th {\n        vertical-align: top;\n    }\n\n    .dataframe thead th {\n        text-align: right;\n    }\n</style>\n<table border=\"1\" class=\"dataframe\">\n  <thead>\n    <tr style=\"text-align: right;\">\n      <th></th>\n      <th>HomeTeam_Arsenal</th>\n      <th>HomeTeam_Aston Villa</th>\n      <th>HomeTeam_Bournemouth</th>\n      <th>HomeTeam_Brighton</th>\n      <th>HomeTeam_Burnley</th>\n      <th>HomeTeam_Cardiff</th>\n      <th>HomeTeam_Chelsea</th>\n      <th>HomeTeam_Crystal Palace</th>\n      <th>HomeTeam_Everton</th>\n      <th>HomeTeam_Fulham</th>\n      <th>...</th>\n      <th>HTLS5</th>\n      <th>ATWS3</th>\n      <th>ATWS5</th>\n      <th>ATLS3</th>\n      <th>ATLS5</th>\n      <th>HTGD</th>\n      <th>ATGD</th>\n      <th>DP</th>\n      <th>DFP</th>\n      <th>DLP</th>\n    </tr>\n  </thead>\n  <tbody>\n    <tr>\n      <th>0</th>\n      <td>0</td>\n      <td>0</td>\n      <td>0</td>\n      <td>0</td>\n      <td>0</td>\n      <td>0</td>\n      <td>0</td>\n      <td>0</td>\n      <td>0</td>\n      <td>1</td>\n      <td>...</td>\n      <td>0</td>\n      <td>0</td>\n      <td>0</td>\n      <td>0</td>\n      <td>0</td>\n      <td>0</td>\n      <td>0</td>\n      <td>0</td>\n      <td>0</td>\n      <td>15</td>\n    </tr>\n    <tr>\n      <th>1</th>\n      <td>0</td>\n      <td>0</td>\n      <td>0</td>\n      <td>0</td>\n      <td>0</td>\n      <td>0</td>\n      <td>0</td>\n      <td>1</td>\n      <td>0</td>\n      <td>0</td>\n      <td>...</td>\n      <td>0</td>\n      <td>0</td>\n      <td>0</td>\n      <td>0</td>\n      <td>0</td>\n      <td>0</td>\n      <td>0</td>\n      <td>0</td>\n      <td>0</td>\n      <td>6</td>\n    </tr>\n    <tr>\n      <th>2</th>\n      <td>0</td>\n      <td>0</td>\n      <td>0</td>\n      <td>0</td>\n      <td>0</td>\n      <td>0</td>\n      <td>0</td>\n      <td>0</td>\n      <td>0</td>\n      <td>0</td>\n      <td>...</td>\n      <td>0</td>\n      <td>0</td>\n      <td>0</td>\n      <td>0</td>\n      <td>0</td>\n      <td>0</td>\n      <td>0</td>\n      <td>0</td>\n      <td>0</td>\n      <td>-16</td>\n    </tr>\n    <tr>\n      <th>3</th>\n      <td>0</td>\n      <td>0</td>\n      <td>0</td>\n      <td>0</td>\n      <td>0</td>\n      <td>0</td>\n      <td>0</td>\n      <td>0</td>\n      <td>0</td>\n      <td>0</td>\n      <td>...</td>\n      <td>0</td>\n      <td>0</td>\n      <td>0</td>\n      <td>0</td>\n      <td>0</td>\n      <td>0</td>\n      <td>0</td>\n      <td>0</td>\n      <td>0</td>\n      <td>-9</td>\n    </tr>\n    <tr>\n      <th>4</th>\n      <td>0</td>\n      <td>0</td>\n      <td>0</td>\n      <td>0</td>\n      <td>0</td>\n      <td>0</td>\n      <td>0</td>\n      <td>0</td>\n      <td>0</td>\n      <td>0</td>\n      <td>...</td>\n      <td>0</td>\n      <td>0</td>\n      <td>0</td>\n      <td>0</td>\n      <td>0</td>\n      <td>0</td>\n      <td>0</td>\n      <td>0</td>\n      <td>0</td>\n      <td>-2</td>\n    </tr>\n  </tbody>\n</table>\n<p>5 rows × 94 columns</p>\n</div>"
     },
     "metadata": {},
     "output_type": "display_data"
    }
   ],
   "source": [
    "# display(X_all.head())\n",
    "\n",
    "# we want continous vars that are integers for our input data, so lets remove any categorical vars\n",
    "def preprocess_features(data):\n",
    "    \"\"\"\n",
    "    Preprocesses football data and\n",
    "    converts categorical variables into dummy variables.\n",
    "    \"\"\"\n",
    "    # new dataframe\n",
    "    output = pd.DataFrame(index = data.index)\n",
    "\n",
    "    # iterate each column and find what type of data is in there\n",
    "    for col, col_data in data.iteritems():\n",
    "\n",
    "        # if data type is categorical (for example team names),\n",
    "        # convert to dummy/indicator variables (0's and 1's)\n",
    "        if col_data.dtype == object:\n",
    "            col_data = pd.get_dummies(col_data, prefix=col)\n",
    "\n",
    "        # add columns to output\n",
    "        output = output.join(col_data)\n",
    "    return output\n",
    "X_all = preprocess_features(X_all)\n",
    "print(\"Processed feature columns ({} total features):{}\".format(len(X_all.columns), list(X_all.columns)))\n",
    "print()\n",
    "display(X_all.head())"
   ],
   "metadata": {
    "collapsed": false,
    "pycharm": {
     "name": "#%%\n"
    }
   }
  },
  {
   "cell_type": "code",
   "execution_count": 18,
   "outputs": [],
   "source": [
    "from sklearn.model_selection import train_test_split\n",
    "\n",
    "# make train/test sets\n",
    "X_train, X_test, y_train, y_test = train_test_split(\n",
    "    X_all, y_all,\n",
    "    # test_size = 180,\n",
    "    # train_size= 600,\n",
    "    random_state = 1,\n",
    "    shuffle=True,\n",
    "    stratify = None\n",
    "    # stratify = y_all\n",
    ")"
   ],
   "metadata": {
    "collapsed": false,
    "pycharm": {
     "name": "#%%\n"
    }
   }
  },
  {
   "cell_type": "code",
   "execution_count": 19,
   "outputs": [
    {
     "name": "stdout",
     "output_type": "stream",
     "text": [
      "Training a SVC using a training set size of 1425. . .\n",
      "Trained model in 0.2440 seconds\n",
      "Made predictions in 0.3460 seconds.\n",
      "F1 score and accuracy score for training set: 0.4741 , 0.5537.\n",
      "Made predictions in 0.1110 seconds.\n",
      "F1 score and accuracy score for test set: 0.4628 , 0.5389.\n",
      "\n",
      "Training a XGBClassifier using a training set size of 1425. . .\n",
      "Trained model in 1.0900 seconds\n",
      "Made predictions in 0.0130 seconds.\n",
      "F1 score and accuracy score for training set: 1.0000 , 1.0000.\n",
      "Made predictions in 0.0090 seconds.\n",
      "F1 score and accuracy score for test set: 0.4937 , 0.5200.\n",
      "\n"
     ]
    }
   ],
   "source": [
    "# F1 score (also F-score or F-measure) is a measure of a test's accuracy.\n",
    "# It considers both the precision p and the recall r of the test to compute\n",
    "# the score: p is the number of correct positive results divided by the number of\n",
    "# all positive results, and r is the number of correct positive results divided by\n",
    "# the number of positive results that should have been returned. The F1 score can be\n",
    "# interpreted as a weighted average of the precision and recall, where an F1 score\n",
    "# reaches its best value at 1 and worst at 0.\n",
    "from sklearn.metrics import f1_score\n",
    "\n",
    "def train_classifier(clf, X_train, y_train):\n",
    "    \"\"\"\n",
    "    Fits a classifier to the training data.\n",
    "    \"\"\"\n",
    "\n",
    "    # Start the clock, train the classifier, then stop the clock\n",
    "    start = time()\n",
    "    clf.fit(X_train, y_train)\n",
    "    end = time()\n",
    "\n",
    "    # Print the results\n",
    "    print(\"Trained model in {:.4f} seconds\".format(end - start))\n",
    "\n",
    "\n",
    "def predict_labels(clf, features, target):\n",
    "    \"\"\"\n",
    "    Makes predictions using a fit classifier based on F1 score.\n",
    "    \"\"\"\n",
    "    # Start the clock, make predictions, then stop the clock\n",
    "    start = time()\n",
    "    y_pred = clf.predict(features)\n",
    "\n",
    "    end = time()\n",
    "    # Print and return results\n",
    "    print(\"Made predictions in {:.4f} seconds.\".format(end - start))\n",
    "\n",
    "    return f1_score(target, y_pred,  average='weighted'), sum(target == y_pred) / float(len(y_pred))\n",
    "\n",
    "\n",
    "def train_predict(clf, X_train, y_train, X_test, y_test):\n",
    "    \"\"\"\n",
    "    Train and predict using a classifer based on F1 score.\n",
    "    \"\"\"\n",
    "    # Indicate the classifier and the training set size\n",
    "    print(\"Training a {} using a training set size of {}. . .\".format(clf.__class__.__name__, len(X_train)))\n",
    "\n",
    "    # Train the classifier\n",
    "    train_classifier(clf, X_train, y_train)\n",
    "\n",
    "    # show results of prediction for both training and testing\n",
    "    f1, acc = predict_labels(clf, X_train, y_train)\n",
    "    print(\"F1 score and accuracy score for training set: {:.4f} , {:.4f}.\".format(f1 , acc))\n",
    "\n",
    "    f1, acc = predict_labels(clf, X_test, y_test)\n",
    "    print(\"F1 score and accuracy score for test set: {:.4f} , {:.4f}.\".format(f1 , acc))\n",
    "    print()\n",
    "\n",
    "seed = 0\n",
    "\n",
    "clf_A = LogisticRegression(\n",
    "    random_state=seed,\n",
    "    max_iter=3000\n",
    ")\n",
    "clf_B = SVC(\n",
    "    random_state=seed,\n",
    "    kernel='rbf'\n",
    ")\n",
    "clf_C = xgb.XGBClassifier(\n",
    "    seed=seed,\n",
    "    eval_metric='mlogloss',\n",
    "    use_label_encoder=False\n",
    ")\n",
    "\n",
    "train_predict(clf_A, X_train, y_train, X_test, y_test)\n",
    "train_predict(clf_B, X_train, y_train, X_test, y_test)\n",
    "train_predict(clf_C, X_train, y_train, X_test, y_test)"
   ],
   "metadata": {
    "collapsed": false,
    "pycharm": {
     "name": "#%%\n"
    }
   }
  },
  {
   "cell_type": "code",
   "execution_count": 20,
   "outputs": [
    {
     "name": "stdout",
     "output_type": "stream",
     "text": [
      "XGBClassifier(base_score=0.5, booster='gbtree', colsample_bylevel=1,\n",
      "              colsample_bynode=1, colsample_bytree=0.8, eval_metric='mlogloss',\n",
      "              gamma=0.4, gpu_id=-1, importance_type='gain',\n",
      "              interaction_constraints='', learning_rate=0.1, max_delta_step=0,\n",
      "              max_depth=4, min_child_weight=3, missing=nan,\n",
      "              monotone_constraints='()', n_estimators=40, n_jobs=4, num_class=3,\n",
      "              num_parallel_tree=1, objective='multi:softprob', random_state=0,\n",
      "              reg_alpha=1e-05, reg_lambda=1, scale_pos_weight=None, seed=0,\n",
      "              subsample=0.8, tree_method='exact', use_label_encoder=False,\n",
      "              validate_parameters=False, ...)\n",
      "Made predictions in 0.0140 seconds.\n",
      "F1 score and accuracy score for training set: 0.6082 , 0.6498.\n",
      "Made predictions in 0.0120 seconds.\n",
      "F1 score and accuracy score for test set: 0.4993 , 0.5579.\n"
     ]
    }
   ],
   "source": [
    "# optimize xgboost\n",
    "from sklearn.model_selection import GridSearchCV\n",
    "from sklearn.metrics import make_scorer\n",
    "\n",
    "\n",
    "# # A parameter grid for XGBoost\n",
    "# params = {\n",
    "#         'min_child_weight': [1, 5, 10],\n",
    "#         'gamma': [0.5, 1, 1.5, 2, 5],\n",
    "#         'subsample': [0.6, 0.8, 1.0],\n",
    "#         'colsample_bytree': [0.6, 0.8, 1.0],\n",
    "#         'max_depth': [3, 4, 5]\n",
    "#         }\n",
    "\n",
    "parameters = {\n",
    "    'min_child_weight': [3],\n",
    "    'gamma':[0.4],\n",
    "    'subsample' : [0.8],\n",
    "    'colsample_bytree' : [0.8],\n",
    "    'max_depth': [4],  # 3\n",
    "    'learning_rate' : [0.1],\n",
    "    'n_estimators' : [40],\n",
    "    # 'scale_pos_weight' : [1],\n",
    "    'reg_alpha':[1e-5],\n",
    "    # \"average\": ['weighted']\n",
    "}\n",
    "\n",
    "clf = xgb.XGBClassifier(\n",
    "    seed=seed,\n",
    "    booster=\"gbtree\",\n",
    "    validate_parameters=False,\n",
    "    # average= 'weighted',\n",
    "    # metric='multiclass',\n",
    "    eval_metric='mlogloss',\n",
    "    num_class=3,\n",
    "    objective=\"multi:softmax\",\n",
    "    use_label_encoder=False\n",
    ")\n",
    "\n",
    "f1_scorer = make_scorer(\n",
    "    f1_score,\n",
    "    average='weighted'\n",
    ")\n",
    "\n",
    "grid_obj = GridSearchCV(\n",
    "    clf,\n",
    "    scoring=f1_scorer,\n",
    "    param_grid=parameters,\n",
    "    cv=5\n",
    ")\n",
    "\n",
    "# # TODO: Fit the grid search object to the training data and find the optimal parameters\n",
    "grid_obj = grid_obj.fit(X_train, y_train)\n",
    "\n",
    "# Get the estimator\n",
    "clf = grid_obj.best_estimator_\n",
    "print(clf)\n",
    "\n",
    "# Report the final F1 score for training and testing after parameter tuning\n",
    "f1, acc = predict_labels(clf, X_train, y_train)\n",
    "print(\"F1 score and accuracy score for training set: {:.4f} , {:.4f}.\".format(f1 , acc))\n",
    "\n",
    "f1, acc = predict_labels(clf, X_test, y_test)\n",
    "print(\"F1 score and accuracy score for test set: {:.4f} , {:.4f}.\".format(f1 , acc))\n"
   ],
   "metadata": {
    "collapsed": false,
    "pycharm": {
     "name": "#%%\n"
    }
   }
  },
  {
   "cell_type": "code",
   "execution_count": 21,
   "outputs": [
    {
     "name": "stdout",
     "output_type": "stream",
     "text": [
      "XGBClassifier(base_score=0.5, booster='gbtree', colsample_bylevel=1,\n",
      "              colsample_bynode=1, colsample_bytree=0.8, eval_metric='mlogloss',\n",
      "              gamma=0.4, gpu_id=-1, importance_type='gain',\n",
      "              interaction_constraints='', learning_rate=0.1, max_delta_step=0,\n",
      "              max_depth=4, min_child_weight=3, missing=nan,\n",
      "              monotone_constraints='()', n_estimators=40, n_jobs=4, num_class=3,\n",
      "              num_parallel_tree=1, objective='multi:softprob', random_state=0,\n",
      "              reg_alpha=1e-05, reg_lambda=1, scale_pos_weight=None, seed=0,\n",
      "              subsample=0.8, tree_method='exact', use_label_encoder=False,\n",
      "              validate_parameters=False, ...)\n"
     ]
    }
   ],
   "source": [
    "clf.save_model(\"model.txt\")\n",
    "\n",
    "print(clf)\n",
    "\n",
    "# model_xgb_2 = xgb.XGBClassifier()\n",
    "# model_xgb_2.load_model(\"model.txt\")\n",
    "#\n",
    "#\n",
    "# print(model_xgb_2)\n",
    "#\n",
    "# # Report the final F1 score for training and testing after parameter tuning\n",
    "# f1, acc = predict_labels(model_xgb_2, X_train, y_train)\n",
    "# print(\"F1 score and accuracy score for training set: {:.4f} , {:.4f}.\".format(f1 , acc))\n",
    "#\n",
    "# f1, acc = predict_labels(model_xgb_2, X_test, y_test)\n",
    "# print(\"F1 score and accuracy score for test set: {:.4f} , {:.4f}.\".format(f1 , acc))\n"
   ],
   "metadata": {
    "collapsed": false,
    "pycharm": {
     "name": "#%%\n"
    }
   }
  }
 ],
 "metadata": {
  "kernelspec": {
   "display_name": "Python 3",
   "language": "python",
   "name": "python3"
  },
  "language_info": {
   "codemirror_mode": {
    "name": "ipython",
    "version": 2
   },
   "file_extension": ".py",
   "mimetype": "text/x-python",
   "name": "python",
   "nbconvert_exporter": "python",
   "pygments_lexer": "ipython2",
   "version": "2.7.6"
  }
 },
 "nbformat": 4,
 "nbformat_minor": 0
}